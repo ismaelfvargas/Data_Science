{
  "nbformat": 4,
  "nbformat_minor": 0,
  "metadata": {
    "colab": {
      "name": "Python_Data_Science.numpy.ipynb",
      "provenance": [],
      "collapsed_sections": [],
      "authorship_tag": "ABX9TyPLNSKMoTuDW+WbUjlqZE8F",
      "include_colab_link": true
    },
    "kernelspec": {
      "name": "python3",
      "display_name": "Python 3"
    }
  },
  "cells": [
    {
      "cell_type": "markdown",
      "metadata": {
        "id": "view-in-github",
        "colab_type": "text"
      },
      "source": [
        "<a href=\"https://colab.research.google.com/github/ismaelfvargas/Data_Science/blob/master/Python_Data_Science_numpy.ipynb\" target=\"_parent\"><img src=\"https://colab.research.google.com/assets/colab-badge.svg\" alt=\"Open In Colab\"/></a>"
      ]
    },
    {
      "cell_type": "code",
      "metadata": {
        "id": "95oSy4lGAKyO",
        "colab_type": "code",
        "colab": {}
      },
      "source": [
        "import numpy as np"
      ],
      "execution_count": 0,
      "outputs": []
    },
    {
      "cell_type": "code",
      "metadata": {
        "id": "KC6L85whDKS2",
        "colab_type": "code",
        "colab": {}
      },
      "source": [
        "km = np.loadtxt('carros-km.txt')"
      ],
      "execution_count": 0,
      "outputs": []
    },
    {
      "cell_type": "code",
      "metadata": {
        "id": "KOe2gSP2DreL",
        "colab_type": "code",
        "colab": {}
      },
      "source": [
        "km"
      ],
      "execution_count": 0,
      "outputs": []
    },
    {
      "cell_type": "code",
      "metadata": {
        "id": "7dAEIYMSD1-n",
        "colab_type": "code",
        "colab": {}
      },
      "source": [
        "anos = np.loadtxt('carros-anos.txt', dtype = int)"
      ],
      "execution_count": 0,
      "outputs": []
    },
    {
      "cell_type": "code",
      "metadata": {
        "id": "gt5Nn333EFsD",
        "colab_type": "code",
        "colab": {}
      },
      "source": [
        "anos"
      ],
      "execution_count": 0,
      "outputs": []
    },
    {
      "cell_type": "code",
      "metadata": {
        "id": "ejOtmFHkmWUA",
        "colab_type": "code",
        "outputId": "d1988e2f-c9d8-4f3b-eb8b-68700cbdcc5e",
        "colab": {
          "base_uri": "https://localhost:8080/",
          "height": 51
        }
      },
      "source": [
        "km_media = km / (2019 - anos)"
      ],
      "execution_count": 0,
      "outputs": [
        {
          "output_type": "stream",
          "text": [
            "/usr/local/lib/python3.6/dist-packages/ipykernel_launcher.py:1: RuntimeWarning: invalid value encountered in true_divide\n",
            "  \"\"\"Entry point for launching an IPython kernel.\n"
          ],
          "name": "stderr"
        }
      ]
    },
    {
      "cell_type": "code",
      "metadata": {
        "id": "jA6tryfWnBhi",
        "colab_type": "code",
        "colab": {}
      },
      "source": [
        "km_media"
      ],
      "execution_count": 0,
      "outputs": []
    },
    {
      "cell_type": "code",
      "metadata": {
        "id": "anqZm08Jnj5g",
        "colab_type": "code",
        "outputId": "aa90d8ad-1b7c-4c28-cc4a-bdad61190ea0",
        "colab": {
          "base_uri": "https://localhost:8080/",
          "height": 34
        }
      },
      "source": [
        "type(km_media)"
      ],
      "execution_count": 0,
      "outputs": [
        {
          "output_type": "execute_result",
          "data": {
            "text/plain": [
              "numpy.ndarray"
            ]
          },
          "metadata": {
            "tags": []
          },
          "execution_count": 20
        }
      ]
    },
    {
      "cell_type": "markdown",
      "metadata": {
        "id": "aeZEAinnpHKR",
        "colab_type": "text"
      },
      "source": [
        "**2.1 - Operações Aritiméticas**"
      ]
    },
    {
      "cell_type": "code",
      "metadata": {
        "id": "dOf_TRcaPP3G",
        "colab_type": "code",
        "outputId": "ba8ed88b-2345-4d0a-84e2-995ad31bd3e8",
        "colab": {
          "base_uri": "https://localhost:8080/",
          "height": 34
        }
      },
      "source": [
        "2 + 2"
      ],
      "execution_count": 0,
      "outputs": [
        {
          "output_type": "execute_result",
          "data": {
            "text/plain": [
              "4"
            ]
          },
          "metadata": {
            "tags": []
          },
          "execution_count": 4
        }
      ]
    },
    {
      "cell_type": "code",
      "metadata": {
        "id": "92UpGN5ZPfK4",
        "colab_type": "code",
        "outputId": "5f0e887e-8e50-4384-e577-fd31df1a6b4c",
        "colab": {
          "base_uri": "https://localhost:8080/",
          "height": 34
        }
      },
      "source": [
        "3 - 4"
      ],
      "execution_count": 0,
      "outputs": [
        {
          "output_type": "execute_result",
          "data": {
            "text/plain": [
              "-1"
            ]
          },
          "metadata": {
            "tags": []
          },
          "execution_count": 5
        }
      ]
    },
    {
      "cell_type": "code",
      "metadata": {
        "id": "sJ4u6MRxPfbH",
        "colab_type": "code",
        "outputId": "6396f1db-1461-4a1b-a110-ef728f8a6ed5",
        "colab": {
          "base_uri": "https://localhost:8080/",
          "height": 34
        }
      },
      "source": [
        "5 * 5"
      ],
      "execution_count": 0,
      "outputs": [
        {
          "output_type": "execute_result",
          "data": {
            "text/plain": [
              "25"
            ]
          },
          "metadata": {
            "tags": []
          },
          "execution_count": 6
        }
      ]
    },
    {
      "cell_type": "markdown",
      "metadata": {
        "id": "wHSqaP9ipsNf",
        "colab_type": "text"
      },
      "source": [
        "Divisão(/) e(//)"
      ]
    },
    {
      "cell_type": "code",
      "metadata": {
        "id": "vXw0q8HZPfj8",
        "colab_type": "code",
        "outputId": "3f737c6e-8ac5-4a74-96e7-b719b60701a3",
        "colab": {
          "base_uri": "https://localhost:8080/",
          "height": 34
        }
      },
      "source": [
        "10 / 3"
      ],
      "execution_count": 0,
      "outputs": [
        {
          "output_type": "execute_result",
          "data": {
            "text/plain": [
              "3.3333333333333335"
            ]
          },
          "metadata": {
            "tags": []
          },
          "execution_count": 7
        }
      ]
    },
    {
      "cell_type": "code",
      "metadata": {
        "id": "0VVMsl_ePn52",
        "colab_type": "code",
        "outputId": "e91480e1-bd6a-4848-87f8-c64d53a094c6",
        "colab": {
          "base_uri": "https://localhost:8080/",
          "height": 34
        }
      },
      "source": [
        "10 // 3"
      ],
      "execution_count": 0,
      "outputs": [
        {
          "output_type": "execute_result",
          "data": {
            "text/plain": [
              "3"
            ]
          },
          "metadata": {
            "tags": []
          },
          "execution_count": 10
        }
      ]
    },
    {
      "cell_type": "markdown",
      "metadata": {
        "id": "go_N7H2iPx63",
        "colab_type": "text"
      },
      "source": [
        "Exponenciação (**)"
      ]
    },
    {
      "cell_type": "code",
      "metadata": {
        "id": "qMrj_VBsPv-2",
        "colab_type": "code",
        "outputId": "db627148-a65f-469b-fd60-77c290c96798",
        "colab": {
          "base_uri": "https://localhost:8080/",
          "height": 34
        }
      },
      "source": [
        "2 ** 3"
      ],
      "execution_count": 0,
      "outputs": [
        {
          "output_type": "execute_result",
          "data": {
            "text/plain": [
              "8"
            ]
          },
          "metadata": {
            "tags": []
          },
          "execution_count": 11
        }
      ]
    },
    {
      "cell_type": "markdown",
      "metadata": {
        "id": "L0LVNtE7QASN",
        "colab_type": "text"
      },
      "source": [
        "Resto da divisão (%)"
      ]
    },
    {
      "cell_type": "code",
      "metadata": {
        "id": "AQS2qhTlP45w",
        "colab_type": "code",
        "outputId": "c30edc34-d381-4f1a-9bd8-243b8490b0b0",
        "colab": {
          "base_uri": "https://localhost:8080/",
          "height": 34
        }
      },
      "source": [
        "10 % 3"
      ],
      "execution_count": 0,
      "outputs": [
        {
          "output_type": "execute_result",
          "data": {
            "text/plain": [
              "1"
            ]
          },
          "metadata": {
            "tags": []
          },
          "execution_count": 13
        }
      ]
    },
    {
      "cell_type": "markdown",
      "metadata": {
        "id": "YdnlwdrjQMFj",
        "colab_type": "text"
      },
      "source": [
        "Expressões matemáticas"
      ]
    },
    {
      "cell_type": "code",
      "metadata": {
        "id": "BjYH0J8vQMSl",
        "colab_type": "code",
        "outputId": "360b859f-c661-41f3-b71b-7b642c31393d",
        "colab": {
          "base_uri": "https://localhost:8080/",
          "height": 34
        }
      },
      "source": [
        "5 * 2 + 3 * 2"
      ],
      "execution_count": 0,
      "outputs": [
        {
          "output_type": "execute_result",
          "data": {
            "text/plain": [
              "16"
            ]
          },
          "metadata": {
            "tags": []
          },
          "execution_count": 14
        }
      ]
    },
    {
      "cell_type": "code",
      "metadata": {
        "id": "qRvOmdiVQemD",
        "colab_type": "code",
        "outputId": "e8b65bfc-1966-4cfb-d9f0-ee5f05c7a57e",
        "colab": {
          "base_uri": "https://localhost:8080/",
          "height": 34
        }
      },
      "source": [
        "5 * (2 + 3) * 2"
      ],
      "execution_count": 0,
      "outputs": [
        {
          "output_type": "execute_result",
          "data": {
            "text/plain": [
              "50"
            ]
          },
          "metadata": {
            "tags": []
          },
          "execution_count": 15
        }
      ]
    },
    {
      "cell_type": "markdown",
      "metadata": {
        "id": "9FFRN7LoQjKc",
        "colab_type": "text"
      },
      "source": [
        "A variavel _"
      ]
    },
    {
      "cell_type": "code",
      "metadata": {
        "id": "a-lsmkVoQjQ8",
        "colab_type": "code",
        "outputId": "28fa1e9f-6c84-4b49-aab6-b30702c9c528",
        "colab": {
          "base_uri": "https://localhost:8080/",
          "height": 34
        }
      },
      "source": [
        "5 * 2"
      ],
      "execution_count": 0,
      "outputs": [
        {
          "output_type": "execute_result",
          "data": {
            "text/plain": [
              "10"
            ]
          },
          "metadata": {
            "tags": []
          },
          "execution_count": 20
        }
      ]
    },
    {
      "cell_type": "code",
      "metadata": {
        "id": "_ibL2pPsQxyf",
        "colab_type": "code",
        "outputId": "1cf19b2b-bf77-4aca-cf0f-78139e12b6e4",
        "colab": {
          "base_uri": "https://localhost:8080/",
          "height": 34
        }
      },
      "source": [
        "_ + 3 * 2"
      ],
      "execution_count": 0,
      "outputs": [
        {
          "output_type": "execute_result",
          "data": {
            "text/plain": [
              "16"
            ]
          },
          "metadata": {
            "tags": []
          },
          "execution_count": 21
        }
      ]
    },
    {
      "cell_type": "code",
      "metadata": {
        "id": "605lpqSwn3qP",
        "colab_type": "code",
        "outputId": "6b4c2294-4b0a-46b4-b36d-29a81e1d56ac",
        "colab": {
          "base_uri": "https://localhost:8080/",
          "height": 34
        }
      },
      "source": [
        "_ / 2"
      ],
      "execution_count": 0,
      "outputs": [
        {
          "output_type": "execute_result",
          "data": {
            "text/plain": [
              "8.0"
            ]
          },
          "metadata": {
            "tags": []
          },
          "execution_count": 22
        }
      ]
    },
    {
      "cell_type": "markdown",
      "metadata": {
        "id": "xe8KYOTTo_zs",
        "colab_type": "text"
      },
      "source": [
        "**2.2 Declarando Variáveis**"
      ]
    },
    {
      "cell_type": "markdown",
      "metadata": {
        "id": "MXEZdM0x828n",
        "colab_type": "text"
      },
      "source": [
        "**Operadores de atribuição: =, +=, -=, *=, /=, **=, %=, //=**"
      ]
    },
    {
      "cell_type": "code",
      "metadata": {
        "id": "UI-iMnYvqSb6",
        "colab_type": "code",
        "colab": {}
      },
      "source": [
        "ano_atual = 2019\n",
        "ano_fabricacao = 2015\n",
        "km_total = 3400.0"
      ],
      "execution_count": 0,
      "outputs": []
    },
    {
      "cell_type": "code",
      "metadata": {
        "id": "rJcKZmFV9xoI",
        "colab_type": "code",
        "outputId": "a505dc00-8c80-4f77-b7ad-3749d10c1e38",
        "colab": {
          "base_uri": "https://localhost:8080/",
          "height": 34
        }
      },
      "source": [
        "km_media = km_total / (ano_atual - ano_fabricacao)\n",
        "\n",
        "km_media"
      ],
      "execution_count": 0,
      "outputs": [
        {
          "output_type": "execute_result",
          "data": {
            "text/plain": [
              "850.0"
            ]
          },
          "metadata": {
            "tags": []
          },
          "execution_count": 39
        }
      ]
    },
    {
      "cell_type": "code",
      "metadata": {
        "id": "l7U9cX-5-cC0",
        "colab_type": "code",
        "outputId": "a9b5f4e8-5307-4976-e513-c1646144c002",
        "colab": {
          "base_uri": "https://localhost:8080/",
          "height": 34
        }
      },
      "source": [
        "ano_atual = 2019\n",
        "ano_fabricacao = 2015\n",
        "km_total = 3400.0\n",
        "km_media = km_total / (ano_atual - ano_fabricacao)\n",
        "\n",
        "km_total += km_media\n",
        "km_total"
      ],
      "execution_count": 0,
      "outputs": [
        {
          "output_type": "execute_result",
          "data": {
            "text/plain": [
              "4250.0"
            ]
          },
          "metadata": {
            "tags": []
          },
          "execution_count": 43
        }
      ]
    },
    {
      "cell_type": "markdown",
      "metadata": {
        "id": "W1dZWTq0_uq0",
        "colab_type": "text"
      },
      "source": [
        "Conclusão: \"valor = valor +1\" é equivalente a \"valor += 1'"
      ]
    },
    {
      "cell_type": "markdown",
      "metadata": {
        "id": "NkXEL6Sz_z35",
        "colab_type": "text"
      },
      "source": [
        "**Declração Multipla**"
      ]
    },
    {
      "cell_type": "code",
      "metadata": {
        "id": "7n8SxdWBAH93",
        "colab_type": "code",
        "colab": {}
      },
      "source": [
        "ano_atual, ano_fabricacao, km_total = 2019, 2003, 4250.0"
      ],
      "execution_count": 0,
      "outputs": []
    },
    {
      "cell_type": "markdown",
      "metadata": {
        "id": "Swr9VHTcNHD3",
        "colab_type": "text"
      },
      "source": [
        "**Variáveis**"
      ]
    },
    {
      "cell_type": "code",
      "metadata": {
        "id": "k7cjeqTqNAnG",
        "colab_type": "code",
        "colab": {}
      },
      "source": [
        ""
      ],
      "execution_count": 0,
      "outputs": []
    }
  ]
}