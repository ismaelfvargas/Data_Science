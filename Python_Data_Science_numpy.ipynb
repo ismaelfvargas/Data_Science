{
  "nbformat": 4,
  "nbformat_minor": 0,
  "metadata": {
    "colab": {
      "name": "Python_Data_Science.numpy.ipynb",
      "provenance": [],
      "collapsed_sections": [],
      "authorship_tag": "ABX9TyNgom+21fUhJ7eziVxOHgb1",
      "include_colab_link": true
    },
    "kernelspec": {
      "name": "python3",
      "display_name": "Python 3"
    }
  },
  "cells": [
    {
      "cell_type": "markdown",
      "metadata": {
        "id": "view-in-github",
        "colab_type": "text"
      },
      "source": [
        "<a href=\"https://colab.research.google.com/github/ismaelfvargas/Data_Science/blob/master/Python_Data_Science_numpy.ipynb\" target=\"_parent\"><img src=\"https://colab.research.google.com/assets/colab-badge.svg\" alt=\"Open In Colab\"/></a>"
      ]
    },
    {
      "cell_type": "code",
      "metadata": {
        "id": "95oSy4lGAKyO",
        "colab_type": "code",
        "colab": {}
      },
      "source": [
        "import numpy as np"
      ],
      "execution_count": 0,
      "outputs": []
    },
    {
      "cell_type": "code",
      "metadata": {
        "id": "KC6L85whDKS2",
        "colab_type": "code",
        "colab": {}
      },
      "source": [
        "km = np.loadtxt('carros-km.txt')"
      ],
      "execution_count": 0,
      "outputs": []
    },
    {
      "cell_type": "code",
      "metadata": {
        "id": "KOe2gSP2DreL",
        "colab_type": "code",
        "colab": {}
      },
      "source": [
        "km"
      ],
      "execution_count": 0,
      "outputs": []
    },
    {
      "cell_type": "code",
      "metadata": {
        "id": "7dAEIYMSD1-n",
        "colab_type": "code",
        "colab": {}
      },
      "source": [
        "anos = np.loadtxt('carros-anos.txt', dtype = int)"
      ],
      "execution_count": 0,
      "outputs": []
    },
    {
      "cell_type": "code",
      "metadata": {
        "id": "gt5Nn333EFsD",
        "colab_type": "code",
        "colab": {}
      },
      "source": [
        "anos"
      ],
      "execution_count": 0,
      "outputs": []
    },
    {
      "cell_type": "code",
      "metadata": {
        "id": "ejOtmFHkmWUA",
        "colab_type": "code",
        "outputId": "d1988e2f-c9d8-4f3b-eb8b-68700cbdcc5e",
        "colab": {
          "base_uri": "https://localhost:8080/",
          "height": 51
        }
      },
      "source": [
        "km_media = km / (2019 - anos)"
      ],
      "execution_count": 0,
      "outputs": [
        {
          "output_type": "stream",
          "text": [
            "/usr/local/lib/python3.6/dist-packages/ipykernel_launcher.py:1: RuntimeWarning: invalid value encountered in true_divide\n",
            "  \"\"\"Entry point for launching an IPython kernel.\n"
          ],
          "name": "stderr"
        }
      ]
    },
    {
      "cell_type": "code",
      "metadata": {
        "id": "jA6tryfWnBhi",
        "colab_type": "code",
        "colab": {}
      },
      "source": [
        "km_media"
      ],
      "execution_count": 0,
      "outputs": []
    },
    {
      "cell_type": "code",
      "metadata": {
        "id": "anqZm08Jnj5g",
        "colab_type": "code",
        "outputId": "aa90d8ad-1b7c-4c28-cc4a-bdad61190ea0",
        "colab": {
          "base_uri": "https://localhost:8080/",
          "height": 34
        }
      },
      "source": [
        "type(km_media)"
      ],
      "execution_count": 0,
      "outputs": [
        {
          "output_type": "execute_result",
          "data": {
            "text/plain": [
              "numpy.ndarray"
            ]
          },
          "metadata": {
            "tags": []
          },
          "execution_count": 20
        }
      ]
    },
    {
      "cell_type": "markdown",
      "metadata": {
        "id": "aeZEAinnpHKR",
        "colab_type": "text"
      },
      "source": [
        "**2.1 - Operações Aritiméticas**"
      ]
    },
    {
      "cell_type": "code",
      "metadata": {
        "id": "dOf_TRcaPP3G",
        "colab_type": "code",
        "outputId": "ba8ed88b-2345-4d0a-84e2-995ad31bd3e8",
        "colab": {
          "base_uri": "https://localhost:8080/",
          "height": 34
        }
      },
      "source": [
        "2 + 2"
      ],
      "execution_count": 0,
      "outputs": [
        {
          "output_type": "execute_result",
          "data": {
            "text/plain": [
              "4"
            ]
          },
          "metadata": {
            "tags": []
          },
          "execution_count": 4
        }
      ]
    },
    {
      "cell_type": "code",
      "metadata": {
        "id": "92UpGN5ZPfK4",
        "colab_type": "code",
        "outputId": "5f0e887e-8e50-4384-e577-fd31df1a6b4c",
        "colab": {
          "base_uri": "https://localhost:8080/",
          "height": 34
        }
      },
      "source": [
        "3 - 4"
      ],
      "execution_count": 0,
      "outputs": [
        {
          "output_type": "execute_result",
          "data": {
            "text/plain": [
              "-1"
            ]
          },
          "metadata": {
            "tags": []
          },
          "execution_count": 5
        }
      ]
    },
    {
      "cell_type": "code",
      "metadata": {
        "id": "sJ4u6MRxPfbH",
        "colab_type": "code",
        "outputId": "6396f1db-1461-4a1b-a110-ef728f8a6ed5",
        "colab": {
          "base_uri": "https://localhost:8080/",
          "height": 34
        }
      },
      "source": [
        "5 * 5"
      ],
      "execution_count": 0,
      "outputs": [
        {
          "output_type": "execute_result",
          "data": {
            "text/plain": [
              "25"
            ]
          },
          "metadata": {
            "tags": []
          },
          "execution_count": 6
        }
      ]
    },
    {
      "cell_type": "markdown",
      "metadata": {
        "id": "wHSqaP9ipsNf",
        "colab_type": "text"
      },
      "source": [
        "Divisão(/) e(//)"
      ]
    },
    {
      "cell_type": "code",
      "metadata": {
        "id": "vXw0q8HZPfj8",
        "colab_type": "code",
        "outputId": "3f737c6e-8ac5-4a74-96e7-b719b60701a3",
        "colab": {
          "base_uri": "https://localhost:8080/",
          "height": 34
        }
      },
      "source": [
        "10 / 3"
      ],
      "execution_count": 0,
      "outputs": [
        {
          "output_type": "execute_result",
          "data": {
            "text/plain": [
              "3.3333333333333335"
            ]
          },
          "metadata": {
            "tags": []
          },
          "execution_count": 7
        }
      ]
    },
    {
      "cell_type": "code",
      "metadata": {
        "id": "0VVMsl_ePn52",
        "colab_type": "code",
        "outputId": "e91480e1-bd6a-4848-87f8-c64d53a094c6",
        "colab": {
          "base_uri": "https://localhost:8080/",
          "height": 34
        }
      },
      "source": [
        "10 // 3"
      ],
      "execution_count": 0,
      "outputs": [
        {
          "output_type": "execute_result",
          "data": {
            "text/plain": [
              "3"
            ]
          },
          "metadata": {
            "tags": []
          },
          "execution_count": 10
        }
      ]
    },
    {
      "cell_type": "markdown",
      "metadata": {
        "id": "go_N7H2iPx63",
        "colab_type": "text"
      },
      "source": [
        "Exponenciação (**)"
      ]
    },
    {
      "cell_type": "code",
      "metadata": {
        "id": "qMrj_VBsPv-2",
        "colab_type": "code",
        "outputId": "db627148-a65f-469b-fd60-77c290c96798",
        "colab": {
          "base_uri": "https://localhost:8080/",
          "height": 34
        }
      },
      "source": [
        "2 ** 3"
      ],
      "execution_count": 0,
      "outputs": [
        {
          "output_type": "execute_result",
          "data": {
            "text/plain": [
              "8"
            ]
          },
          "metadata": {
            "tags": []
          },
          "execution_count": 11
        }
      ]
    },
    {
      "cell_type": "markdown",
      "metadata": {
        "id": "L0LVNtE7QASN",
        "colab_type": "text"
      },
      "source": [
        "Resto da divisão (%)"
      ]
    },
    {
      "cell_type": "code",
      "metadata": {
        "id": "AQS2qhTlP45w",
        "colab_type": "code",
        "outputId": "c30edc34-d381-4f1a-9bd8-243b8490b0b0",
        "colab": {
          "base_uri": "https://localhost:8080/",
          "height": 34
        }
      },
      "source": [
        "10 % 3"
      ],
      "execution_count": 0,
      "outputs": [
        {
          "output_type": "execute_result",
          "data": {
            "text/plain": [
              "1"
            ]
          },
          "metadata": {
            "tags": []
          },
          "execution_count": 13
        }
      ]
    },
    {
      "cell_type": "markdown",
      "metadata": {
        "id": "YdnlwdrjQMFj",
        "colab_type": "text"
      },
      "source": [
        "Expressões matemáticas"
      ]
    },
    {
      "cell_type": "code",
      "metadata": {
        "id": "BjYH0J8vQMSl",
        "colab_type": "code",
        "outputId": "360b859f-c661-41f3-b71b-7b642c31393d",
        "colab": {
          "base_uri": "https://localhost:8080/",
          "height": 34
        }
      },
      "source": [
        "5 * 2 + 3 * 2"
      ],
      "execution_count": 0,
      "outputs": [
        {
          "output_type": "execute_result",
          "data": {
            "text/plain": [
              "16"
            ]
          },
          "metadata": {
            "tags": []
          },
          "execution_count": 14
        }
      ]
    },
    {
      "cell_type": "code",
      "metadata": {
        "id": "qRvOmdiVQemD",
        "colab_type": "code",
        "outputId": "e8b65bfc-1966-4cfb-d9f0-ee5f05c7a57e",
        "colab": {
          "base_uri": "https://localhost:8080/",
          "height": 34
        }
      },
      "source": [
        "5 * (2 + 3) * 2"
      ],
      "execution_count": 0,
      "outputs": [
        {
          "output_type": "execute_result",
          "data": {
            "text/plain": [
              "50"
            ]
          },
          "metadata": {
            "tags": []
          },
          "execution_count": 15
        }
      ]
    },
    {
      "cell_type": "markdown",
      "metadata": {
        "id": "9FFRN7LoQjKc",
        "colab_type": "text"
      },
      "source": [
        "A variavel _"
      ]
    },
    {
      "cell_type": "code",
      "metadata": {
        "id": "a-lsmkVoQjQ8",
        "colab_type": "code",
        "outputId": "28fa1e9f-6c84-4b49-aab6-b30702c9c528",
        "colab": {
          "base_uri": "https://localhost:8080/",
          "height": 34
        }
      },
      "source": [
        "5 * 2"
      ],
      "execution_count": 0,
      "outputs": [
        {
          "output_type": "execute_result",
          "data": {
            "text/plain": [
              "10"
            ]
          },
          "metadata": {
            "tags": []
          },
          "execution_count": 20
        }
      ]
    },
    {
      "cell_type": "code",
      "metadata": {
        "id": "_ibL2pPsQxyf",
        "colab_type": "code",
        "outputId": "1cf19b2b-bf77-4aca-cf0f-78139e12b6e4",
        "colab": {
          "base_uri": "https://localhost:8080/",
          "height": 34
        }
      },
      "source": [
        "_ + 3 * 2"
      ],
      "execution_count": 0,
      "outputs": [
        {
          "output_type": "execute_result",
          "data": {
            "text/plain": [
              "16"
            ]
          },
          "metadata": {
            "tags": []
          },
          "execution_count": 21
        }
      ]
    },
    {
      "cell_type": "code",
      "metadata": {
        "id": "605lpqSwn3qP",
        "colab_type": "code",
        "outputId": "6b4c2294-4b0a-46b4-b36d-29a81e1d56ac",
        "colab": {
          "base_uri": "https://localhost:8080/",
          "height": 34
        }
      },
      "source": [
        "_ / 2"
      ],
      "execution_count": 0,
      "outputs": [
        {
          "output_type": "execute_result",
          "data": {
            "text/plain": [
              "8.0"
            ]
          },
          "metadata": {
            "tags": []
          },
          "execution_count": 22
        }
      ]
    },
    {
      "cell_type": "markdown",
      "metadata": {
        "id": "xe8KYOTTo_zs",
        "colab_type": "text"
      },
      "source": [
        "**2.2 Declarando Variáveis**"
      ]
    },
    {
      "cell_type": "markdown",
      "metadata": {
        "id": "MXEZdM0x828n",
        "colab_type": "text"
      },
      "source": [
        "**Operadores de atribuição: =, +=, -=, *=, /=, **=, %=, //=**"
      ]
    },
    {
      "cell_type": "code",
      "metadata": {
        "id": "UI-iMnYvqSb6",
        "colab_type": "code",
        "colab": {}
      },
      "source": [
        "ano_atual = 2019\n",
        "ano_fabricacao = 2015\n",
        "km_total = 3400.0"
      ],
      "execution_count": 0,
      "outputs": []
    },
    {
      "cell_type": "code",
      "metadata": {
        "id": "rJcKZmFV9xoI",
        "colab_type": "code",
        "outputId": "a505dc00-8c80-4f77-b7ad-3749d10c1e38",
        "colab": {
          "base_uri": "https://localhost:8080/",
          "height": 34
        }
      },
      "source": [
        "km_media = km_total / (ano_atual - ano_fabricacao)\n",
        "\n",
        "km_media"
      ],
      "execution_count": 0,
      "outputs": [
        {
          "output_type": "execute_result",
          "data": {
            "text/plain": [
              "850.0"
            ]
          },
          "metadata": {
            "tags": []
          },
          "execution_count": 39
        }
      ]
    },
    {
      "cell_type": "code",
      "metadata": {
        "id": "l7U9cX-5-cC0",
        "colab_type": "code",
        "outputId": "a9b5f4e8-5307-4976-e513-c1646144c002",
        "colab": {
          "base_uri": "https://localhost:8080/",
          "height": 34
        }
      },
      "source": [
        "ano_atual = 2019\n",
        "ano_fabricacao = 2015\n",
        "km_total = 3400.0\n",
        "km_media = km_total / (ano_atual - ano_fabricacao)\n",
        "\n",
        "km_total += km_media\n",
        "km_total"
      ],
      "execution_count": 0,
      "outputs": [
        {
          "output_type": "execute_result",
          "data": {
            "text/plain": [
              "4250.0"
            ]
          },
          "metadata": {
            "tags": []
          },
          "execution_count": 43
        }
      ]
    },
    {
      "cell_type": "markdown",
      "metadata": {
        "id": "W1dZWTq0_uq0",
        "colab_type": "text"
      },
      "source": [
        "Conclusão: \"valor = valor +1\" é equivalente a \"valor += 1'"
      ]
    },
    {
      "cell_type": "markdown",
      "metadata": {
        "id": "NkXEL6Sz_z35",
        "colab_type": "text"
      },
      "source": [
        "**Declração Multipla**"
      ]
    },
    {
      "cell_type": "code",
      "metadata": {
        "id": "7n8SxdWBAH93",
        "colab_type": "code",
        "colab": {}
      },
      "source": [
        "ano_atual, ano_fabricacao, km_total = 2019, 2003, 4250.0"
      ],
      "execution_count": 0,
      "outputs": []
    },
    {
      "cell_type": "markdown",
      "metadata": {
        "id": "Swr9VHTcNHD3",
        "colab_type": "text"
      },
      "source": [
        "**Variáveis**"
      ]
    },
    {
      "cell_type": "markdown",
      "metadata": {
        "id": "gPk2F5WqBLBu",
        "colab_type": "text"
      },
      "source": [
        "**Numéricos**"
      ]
    },
    {
      "cell_type": "code",
      "metadata": {
        "id": "k7cjeqTqNAnG",
        "colab_type": "code",
        "colab": {}
      },
      "source": [
        "ano_atual = 2019"
      ],
      "execution_count": 0,
      "outputs": []
    },
    {
      "cell_type": "code",
      "metadata": {
        "id": "HDpQuBqwApuQ",
        "colab_type": "code",
        "outputId": "7d4e2e76-dec5-4536-d7f2-9a55623ab5f4",
        "colab": {
          "base_uri": "https://localhost:8080/",
          "height": 34
        }
      },
      "source": [
        "type(ano_atual)"
      ],
      "execution_count": 0,
      "outputs": [
        {
          "output_type": "execute_result",
          "data": {
            "text/plain": [
              "int"
            ]
          },
          "metadata": {
            "tags": []
          },
          "execution_count": 2
        }
      ]
    },
    {
      "cell_type": "code",
      "metadata": {
        "id": "Ebmk8O1XAuEc",
        "colab_type": "code",
        "colab": {}
      },
      "source": [
        "km_total = 4454.3"
      ],
      "execution_count": 0,
      "outputs": []
    },
    {
      "cell_type": "code",
      "metadata": {
        "id": "9FU2WZh8AuIs",
        "colab_type": "code",
        "outputId": "d7a2ca42-9406-40cf-fb24-f6a41e3dd837",
        "colab": {
          "base_uri": "https://localhost:8080/",
          "height": 34
        }
      },
      "source": [
        "type(km_total)"
      ],
      "execution_count": 0,
      "outputs": [
        {
          "output_type": "execute_result",
          "data": {
            "text/plain": [
              "float"
            ]
          },
          "metadata": {
            "tags": []
          },
          "execution_count": 4
        }
      ]
    },
    {
      "cell_type": "markdown",
      "metadata": {
        "id": "OMyfkQ1nBRfa",
        "colab_type": "text"
      },
      "source": [
        "**Boolean**"
      ]
    },
    {
      "cell_type": "code",
      "metadata": {
        "id": "r1VS_cuZA6Yt",
        "colab_type": "code",
        "colab": {}
      },
      "source": [
        "zero_km = False"
      ],
      "execution_count": 0,
      "outputs": []
    },
    {
      "cell_type": "code",
      "metadata": {
        "id": "tHi1GjNNA6c_",
        "colab_type": "code",
        "outputId": "5cc9013f-9be6-4613-86cd-f8484956b77a",
        "colab": {
          "base_uri": "https://localhost:8080/",
          "height": 34
        }
      },
      "source": [
        "type(zero_km)"
      ],
      "execution_count": 0,
      "outputs": [
        {
          "output_type": "execute_result",
          "data": {
            "text/plain": [
              "bool"
            ]
          },
          "metadata": {
            "tags": []
          },
          "execution_count": 8
        }
      ]
    },
    {
      "cell_type": "markdown",
      "metadata": {
        "id": "HVtcVnYABW-H",
        "colab_type": "text"
      },
      "source": [
        "**Strings**"
      ]
    },
    {
      "cell_type": "code",
      "metadata": {
        "id": "TEbNCZMJBZq3",
        "colab_type": "code",
        "outputId": "a1b89a51-5861-4845-e1fb-b6a45fd5d777",
        "colab": {
          "base_uri": "https://localhost:8080/",
          "height": 34
        }
      },
      "source": [
        "nome = 'Jetta Variant'\n",
        "nome"
      ],
      "execution_count": 0,
      "outputs": [
        {
          "output_type": "execute_result",
          "data": {
            "text/plain": [
              "'Jetta Variant'"
            ]
          },
          "metadata": {
            "tags": []
          },
          "execution_count": 10
        }
      ]
    },
    {
      "cell_type": "code",
      "metadata": {
        "id": "FovfK0NbN5MT",
        "colab_type": "code",
        "outputId": "cee2a681-ca28-45b6-a80f-cc4ad4603701",
        "colab": {
          "base_uri": "https://localhost:8080/",
          "height": 34
        }
      },
      "source": [
        "nome = \"Jetta Variant\"\n",
        "nome"
      ],
      "execution_count": 0,
      "outputs": [
        {
          "output_type": "execute_result",
          "data": {
            "text/plain": [
              "'Jetta Variant'"
            ]
          },
          "metadata": {
            "tags": []
          },
          "execution_count": 11
        }
      ]
    },
    {
      "cell_type": "code",
      "metadata": {
        "id": "JZRBj3_uOHjU",
        "colab_type": "code",
        "outputId": "a9f9b0e6-bbc0-45c6-a40d-1f84254e3797",
        "colab": {
          "base_uri": "https://localhost:8080/",
          "height": 34
        }
      },
      "source": [
        "carro = '''\n",
        "  nome\n",
        "  idade\n",
        "  nota\n",
        "'''\n",
        "carro"
      ],
      "execution_count": 0,
      "outputs": [
        {
          "output_type": "execute_result",
          "data": {
            "text/plain": [
              "'\\n  nome\\n  idade\\n  nota\\n'"
            ]
          },
          "metadata": {
            "tags": []
          },
          "execution_count": 14
        }
      ]
    },
    {
      "cell_type": "markdown",
      "metadata": {
        "id": "zje5sGk_OSOM",
        "colab_type": "text"
      },
      "source": [
        "**None**"
      ]
    },
    {
      "cell_type": "code",
      "metadata": {
        "id": "AoxcpkdwOXd4",
        "colab_type": "code",
        "colab": {}
      },
      "source": [
        "quilometragem = None\n",
        "quilometragem"
      ],
      "execution_count": 0,
      "outputs": []
    },
    {
      "cell_type": "markdown",
      "metadata": {
        "id": "ovdBMiCZPFJE",
        "colab_type": "text"
      },
      "source": [
        "**2.4 CONVERSÃO DE TIPOS**"
      ]
    },
    {
      "cell_type": "code",
      "metadata": {
        "id": "NKCnIaJSPMw7",
        "colab_type": "code",
        "colab": {}
      },
      "source": [
        "a = 10\n",
        "b = 20\n",
        "c = 'python é '\n",
        "d = 'legal'"
      ],
      "execution_count": 0,
      "outputs": []
    },
    {
      "cell_type": "code",
      "metadata": {
        "id": "WMIWaevwPMzz",
        "colab_type": "code",
        "outputId": "d057ab88-9589-424a-f890-7a8ecf7f5b97",
        "colab": {
          "base_uri": "https://localhost:8080/",
          "height": 34
        }
      },
      "source": [
        "type(a)"
      ],
      "execution_count": 0,
      "outputs": [
        {
          "output_type": "execute_result",
          "data": {
            "text/plain": [
              "int"
            ]
          },
          "metadata": {
            "tags": []
          },
          "execution_count": 18
        }
      ]
    },
    {
      "cell_type": "code",
      "metadata": {
        "id": "ONVHSjDYPM2k",
        "colab_type": "code",
        "outputId": "1cf013ef-b621-4e84-e9c3-a7a1e35e7886",
        "colab": {
          "base_uri": "https://localhost:8080/",
          "height": 34
        }
      },
      "source": [
        "type(b)"
      ],
      "execution_count": 0,
      "outputs": [
        {
          "output_type": "execute_result",
          "data": {
            "text/plain": [
              "int"
            ]
          },
          "metadata": {
            "tags": []
          },
          "execution_count": 19
        }
      ]
    },
    {
      "cell_type": "code",
      "metadata": {
        "id": "eJNEqYbSPfnz",
        "colab_type": "code",
        "outputId": "0965e132-8c47-4788-9d82-40085ec96bae",
        "colab": {
          "base_uri": "https://localhost:8080/",
          "height": 34
        }
      },
      "source": [
        "type(c)"
      ],
      "execution_count": 0,
      "outputs": [
        {
          "output_type": "execute_result",
          "data": {
            "text/plain": [
              "str"
            ]
          },
          "metadata": {
            "tags": []
          },
          "execution_count": 20
        }
      ]
    },
    {
      "cell_type": "code",
      "metadata": {
        "id": "pHSOuD5NPfqi",
        "colab_type": "code",
        "outputId": "42c8dfed-6fc7-446a-dde9-afe93d99f987",
        "colab": {
          "base_uri": "https://localhost:8080/",
          "height": 34
        }
      },
      "source": [
        "type(d)"
      ],
      "execution_count": 0,
      "outputs": [
        {
          "output_type": "execute_result",
          "data": {
            "text/plain": [
              "str"
            ]
          },
          "metadata": {
            "tags": []
          },
          "execution_count": 21
        }
      ]
    },
    {
      "cell_type": "code",
      "metadata": {
        "id": "LGtthegvPrRB",
        "colab_type": "code",
        "outputId": "3c526465-8d06-4800-de77-a638ff653d3e",
        "colab": {
          "base_uri": "https://localhost:8080/",
          "height": 34
        }
      },
      "source": [
        "a + b"
      ],
      "execution_count": 0,
      "outputs": [
        {
          "output_type": "execute_result",
          "data": {
            "text/plain": [
              "30"
            ]
          },
          "metadata": {
            "tags": []
          },
          "execution_count": 22
        }
      ]
    },
    {
      "cell_type": "code",
      "metadata": {
        "id": "x6_wXtVEPti0",
        "colab_type": "code",
        "outputId": "db2369fc-c8c4-470a-9505-5b452c6e08e0",
        "colab": {
          "base_uri": "https://localhost:8080/",
          "height": 34
        }
      },
      "source": [
        "c + d"
      ],
      "execution_count": 0,
      "outputs": [
        {
          "output_type": "execute_result",
          "data": {
            "text/plain": [
              "'python é legal'"
            ]
          },
          "metadata": {
            "tags": []
          },
          "execution_count": 25
        }
      ]
    },
    {
      "cell_type": "markdown",
      "metadata": {
        "id": "CkjaqjedP_tH",
        "colab_type": "text"
      },
      "source": [
        "**CONVERSÃO DE TIPO** FUNÇÕES INT(), FLOAT(), STR()"
      ]
    },
    {
      "cell_type": "code",
      "metadata": {
        "id": "XBnu3HF9QLFz",
        "colab_type": "code",
        "colab": {}
      },
      "source": [
        ""
      ],
      "execution_count": 0,
      "outputs": []
    },
    {
      "cell_type": "code",
      "metadata": {
        "id": "d1Ib7xKAQLJF",
        "colab_type": "code",
        "outputId": "e59112ef-a51c-4528-def3-1828ebf93c20",
        "colab": {
          "base_uri": "https://localhost:8080/",
          "height": 34
        }
      },
      "source": [
        "str(a)"
      ],
      "execution_count": 0,
      "outputs": [
        {
          "output_type": "execute_result",
          "data": {
            "text/plain": [
              "'10'"
            ]
          },
          "metadata": {
            "tags": []
          },
          "execution_count": 27
        }
      ]
    },
    {
      "cell_type": "code",
      "metadata": {
        "id": "ht2pynYDQLLu",
        "colab_type": "code",
        "outputId": "c8ec6ff8-445c-4f9b-8fcd-123b29a82c00",
        "colab": {
          "base_uri": "https://localhost:8080/",
          "height": 34
        }
      },
      "source": [
        "type(str(a))"
      ],
      "execution_count": 0,
      "outputs": [
        {
          "output_type": "execute_result",
          "data": {
            "text/plain": [
              "str"
            ]
          },
          "metadata": {
            "tags": []
          },
          "execution_count": 29
        }
      ]
    },
    {
      "cell_type": "code",
      "metadata": {
        "id": "aJ4Ag3y0QMCQ",
        "colab_type": "code",
        "outputId": "455552d1-808a-4909-90f1-e0763a0426a6",
        "colab": {
          "base_uri": "https://localhost:8080/",
          "height": 34
        }
      },
      "source": [
        "c + str(a)"
      ],
      "execution_count": 0,
      "outputs": [
        {
          "output_type": "execute_result",
          "data": {
            "text/plain": [
              "'python é 10'"
            ]
          },
          "metadata": {
            "tags": []
          },
          "execution_count": 30
        }
      ]
    },
    {
      "cell_type": "code",
      "metadata": {
        "id": "7BFvdheLQME3",
        "colab_type": "code",
        "outputId": "f6b4f73f-79f0-4802-a526-7670394742ba",
        "colab": {
          "base_uri": "https://localhost:8080/",
          "height": 34
        }
      },
      "source": [
        "float(a)"
      ],
      "execution_count": 0,
      "outputs": [
        {
          "output_type": "execute_result",
          "data": {
            "text/plain": [
              "10.0"
            ]
          },
          "metadata": {
            "tags": []
          },
          "execution_count": 31
        }
      ]
    },
    {
      "cell_type": "code",
      "metadata": {
        "id": "fxVGa_FvQpMl",
        "colab_type": "code",
        "outputId": "c717f7c8-3c7e-4355-a0ba-7ccc7f2b67b3",
        "colab": {
          "base_uri": "https://localhost:8080/",
          "height": 34
        }
      },
      "source": [
        "var = 3.454841\n",
        "type(var)"
      ],
      "execution_count": 0,
      "outputs": [
        {
          "output_type": "execute_result",
          "data": {
            "text/plain": [
              "float"
            ]
          },
          "metadata": {
            "tags": []
          },
          "execution_count": 33
        }
      ]
    },
    {
      "cell_type": "code",
      "metadata": {
        "id": "EDfPXBvLQ0Ap",
        "colab_type": "code",
        "outputId": "ade07749-97ad-44ed-8c7d-02b59664094e",
        "colab": {
          "base_uri": "https://localhost:8080/",
          "height": 34
        }
      },
      "source": [
        "int(var)"
      ],
      "execution_count": 0,
      "outputs": [
        {
          "output_type": "execute_result",
          "data": {
            "text/plain": [
              "3"
            ]
          },
          "metadata": {
            "tags": []
          },
          "execution_count": 43
        }
      ]
    },
    {
      "cell_type": "code",
      "metadata": {
        "id": "glKQX2tnluYG",
        "colab_type": "code",
        "colab": {}
      },
      "source": [
        "text = 'A quilometragem média do veículo é '\n",
        "Km = 100000\n",
        "Ano_atual = 2019\n",
        "Ano_fabricacao = 1999"
      ],
      "execution_count": 0,
      "outputs": []
    },
    {
      "cell_type": "code",
      "metadata": {
        "id": "kP4ZFd8elvbR",
        "colab_type": "code",
        "outputId": "2da93ba8-04c8-4036-e0f2-8cd72c10709c",
        "colab": {
          "base_uri": "https://localhost:8080/",
          "height": 34
        }
      },
      "source": [
        "text + str( int( Km / (Ano_atual - Ano_fabricacao) ) ) + ' km'"
      ],
      "execution_count": 0,
      "outputs": [
        {
          "output_type": "execute_result",
          "data": {
            "text/plain": [
              "'A quilometragem média do veículo é 5000 km'"
            ]
          },
          "metadata": {
            "tags": []
          },
          "execution_count": 42
        }
      ]
    },
    {
      "cell_type": "code",
      "metadata": {
        "id": "BPEE_u44o0nu",
        "colab_type": "code",
        "outputId": "2ef182ec-b10e-42ed-c38d-50749d02d24e",
        "colab": {
          "base_uri": "https://localhost:8080/",
          "height": 34
        }
      },
      "source": [
        "ano_atual = 2019\n",
        "ano_fabricacao = 2019\n",
        "\n",
        "if (ano_atual == ano_fabricacao):\n",
        "  print('verdadeiro')\n",
        "else:\n",
        "  print('falso')"
      ],
      "execution_count": 0,
      "outputs": [
        {
          "output_type": "stream",
          "text": [
            "verdadeiro\n"
          ],
          "name": "stdout"
        }
      ]
    },
    {
      "cell_type": "markdown",
      "metadata": {
        "id": "uqY9oJvZqHiX",
        "colab_type": "text"
      },
      "source": [
        "**STR.format()**"
      ]
    },
    {
      "cell_type": "code",
      "metadata": {
        "id": "sVl9-x9Mpo8d",
        "colab_type": "code",
        "outputId": "3305dfd7-56a1-4ae8-fc97-9f8ef4ee8731",
        "colab": {
          "base_uri": "https://localhost:8080/",
          "height": 34
        }
      },
      "source": [
        "print('olá, {}! Este é seu acesso de numero {}'.format('rodirgo', 32))"
      ],
      "execution_count": 0,
      "outputs": [
        {
          "output_type": "stream",
          "text": [
            "olá, rodirgo! Este é seu acesso de numero 32\n"
          ],
          "name": "stdout"
        }
      ]
    },
    {
      "cell_type": "code",
      "metadata": {
        "id": "42k-F9HOqqE3",
        "colab_type": "code",
        "outputId": "6e208dff-ae35-4357-dbc3-4ca579e629b3",
        "colab": {
          "base_uri": "https://localhost:8080/",
          "height": 34
        }
      },
      "source": [
        "print('olá, {nome}! Este é o seu acesso de numero {acesso}'.format(nome = 'Rodrigo', acesso = 32))"
      ],
      "execution_count": 0,
      "outputs": [
        {
          "output_type": "stream",
          "text": [
            "olá, Rodrigo! Este é o seu acesso de numero 32\n"
          ],
          "name": "stdout"
        }
      ]
    },
    {
      "cell_type": "markdown",
      "metadata": {
        "id": "akI5-rvuq87E",
        "colab_type": "text"
      },
      "source": [
        "**f-strings**"
      ]
    },
    {
      "cell_type": "code",
      "metadata": {
        "id": "DkkaUSaNrBg-",
        "colab_type": "code",
        "colab": {}
      },
      "source": [
        "nome = 'Rodrigo'\n",
        "acessos = 32"
      ],
      "execution_count": 0,
      "outputs": []
    },
    {
      "cell_type": "code",
      "metadata": {
        "id": "F22XpU6brBjW",
        "colab_type": "code",
        "outputId": "710d7e1d-72a8-4700-fd17-c4d51747e51e",
        "colab": {
          "base_uri": "https://localhost:8080/",
          "height": 34
        }
      },
      "source": [
        "print(f'Olá, {nome}! Este é o seu acesso de numero {acessos}')"
      ],
      "execution_count": 0,
      "outputs": [
        {
          "output_type": "stream",
          "text": [
            "Olá, Rodrigo! Este é o seu acesso de numero 32\n"
          ],
          "name": "stdout"
        }
      ]
    },
    {
      "cell_type": "markdown",
      "metadata": {
        "id": "ui6iu7isAWkZ",
        "colab_type": "text"
      },
      "source": [
        "**3.1 - CRIANDO LISTAS**"
      ]
    },
    {
      "cell_type": "code",
      "metadata": {
        "id": "nN37hPkjAaf5",
        "colab_type": "code",
        "colab": {}
      },
      "source": [
        ""
      ],
      "execution_count": 0,
      "outputs": []
    }
  ]
}